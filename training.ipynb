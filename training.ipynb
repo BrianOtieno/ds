{
 "cells": [
  {
   "cell_type": "code",
   "execution_count": 2,
   "id": "d84ad95e-abe4-46cc-8c9e-4688859e77b2",
   "metadata": {
    "tags": []
   },
   "outputs": [
    {
     "name": "stdout",
     "output_type": "stream",
     "text": [
      "[10 12 14 16 20 25]\n",
      "int64\n",
      "8\n"
     ]
    }
   ],
   "source": [
    "import numpy as np\n",
    "my_array = np.array([10,12,14,16,20,25]) \n",
    "print(my_array)\n",
    "print(my_array.dtype) \n",
    "print(my_array.dtype.itemsize)"
   ]
  },
  {
   "cell_type": "code",
   "execution_count": 3,
   "id": "6fda51fe-4c31-454d-953f-a37f4005a77d",
   "metadata": {
    "tags": []
   },
   "outputs": [
    {
     "name": "stdout",
     "output_type": "stream",
     "text": [
      "['Red' 'Green' 'Orange']\n",
      "<U6\n",
      "24\n"
     ]
    }
   ],
   "source": [
    "import numpy as np\n",
    "my_array = np.array([\"Red\", \"Green\", \"Orange\"]) \n",
    "print(my_array)\n",
    "print(my_array.dtype) \n",
    "print(my_array.dtype.itemsize)"
   ]
  },
  {
   "cell_type": "code",
   "execution_count": 5,
   "id": "ac2040cc-8139-4f31-a7b7-7acfa2627cfd",
   "metadata": {
    "tags": []
   },
   "outputs": [
    {
     "name": "stdout",
     "output_type": "stream",
     "text": [
      "['1990-10-04' '1989-05-06' '1990-11-04']\n",
      "<U10\n",
      "40\n"
     ]
    }
   ],
   "source": [
    "import numpy as np\n",
    "my_array = np.array([\"1990-10-04\", \"1989-05-06\", \"1990-11-04\"]) \n",
    "print(my_array)\n",
    "print(my_array.dtype)\n",
    "print(my_array.dtype.itemsize)"
   ]
  },
  {
   "cell_type": "code",
   "execution_count": 6,
   "id": "b3b69b35-5ecc-4658-8ee7-38f20484846b",
   "metadata": {
    "tags": []
   },
   "outputs": [
    {
     "name": "stdout",
     "output_type": "stream",
     "text": [
      "datetime64[D]\n",
      "8\n"
     ]
    }
   ],
   "source": [
    "my_array3 = my_array.astype(\"M\") \n",
    "print(my_array3.dtype) \n",
    "print(my_array3.dtype.itemsize)"
   ]
  },
  {
   "cell_type": "code",
   "execution_count": 7,
   "id": "a4f77948-c00a-4c5f-9ac0-9a21cb65b030",
   "metadata": {
    "tags": []
   },
   "outputs": [
    {
     "name": "stdout",
     "output_type": "stream",
     "text": [
      "['1990-10-04' '1989-05-06' '1990-11-04']\n",
      "datetime64[D]\n",
      "8\n"
     ]
    }
   ],
   "source": [
    "import numpy as np\n",
    "my_array = np.array([\"1990-10-04\", \"1989-05-06\", \"1990-11-04\"], dtype = \"M\") \n",
    "print(my_array)\n",
    "print(my_array.dtype)\n",
    "print(my_array.dtype.itemsize)"
   ]
  },
  {
   "cell_type": "code",
   "execution_count": 9,
   "id": "02a345e3-3664-4722-8c0a-968ef5511cbf",
   "metadata": {
    "tags": []
   },
   "outputs": [
    {
     "data": {
      "text/plain": [
       "numpy.ndarray"
      ]
     },
     "execution_count": 9,
     "metadata": {},
     "output_type": "execute_result"
    }
   ],
   "source": [
    "import numpy as np\n",
    "nums_list = [10,12,14,16,20] \n",
    "nums_array = np.array(nums_list) \n",
    "type(nums_array)"
   ]
  },
  {
   "cell_type": "code",
   "execution_count": 12,
   "id": "4b41cd0e-f3aa-4ed8-b72b-9d54b9ae06c2",
   "metadata": {
    "tags": []
   },
   "outputs": [
    {
     "data": {
      "text/plain": [
       "array([[10, 12, 13],\n",
       "       [45, 32, 16],\n",
       "       [45, 32, 16]])"
      ]
     },
     "execution_count": 12,
     "metadata": {},
     "output_type": "execute_result"
    }
   ],
   "source": [
    "row1 = [10,12,13]\n",
    "row2 = [45,32,16]\n",
    "row3 = [45,32,16]\n",
    "nums_2d = np.array([row1, row2, row3]) \n",
    "nums_2d.shape\n",
    "nums_2d"
   ]
  },
  {
   "cell_type": "code",
   "execution_count": 13,
   "id": "aa648b1c-ad36-4b94-8674-bd480ec273e4",
   "metadata": {
    "tags": []
   },
   "outputs": [
    {
     "name": "stdout",
     "output_type": "stream",
     "text": [
      "[ 5  6  7  8  9 10]\n"
     ]
    }
   ],
   "source": [
    "nums_arr = np.arange(5,11) \n",
    "print(nums_arr)"
   ]
  },
  {
   "cell_type": "code",
   "execution_count": 14,
   "id": "3c161edb-25f6-461a-8624-dc7503996915",
   "metadata": {
    "tags": []
   },
   "outputs": [
    {
     "name": "stdout",
     "output_type": "stream",
     "text": [
      "[ 5  7  9 11]\n"
     ]
    }
   ],
   "source": [
    "nums_arr = np.arange(5,12,2) \n",
    "print(nums_arr)"
   ]
  },
  {
   "cell_type": "code",
   "execution_count": 15,
   "id": "479dd485-a3c2-4898-a6ae-b42b84e1781e",
   "metadata": {
    "tags": []
   },
   "outputs": [
    {
     "name": "stdout",
     "output_type": "stream",
     "text": [
      "[1. 1. 1. 1. 1. 1.]\n"
     ]
    }
   ],
   "source": [
    "ones_array = np.ones(6) \n",
    "print(ones_array)"
   ]
  },
  {
   "cell_type": "code",
   "execution_count": 5,
   "id": "082a0200-a3c3-4650-ac37-6068f9de2961",
   "metadata": {},
   "outputs": [
    {
     "name": "stdout",
     "output_type": "stream",
     "text": [
      "[[1. 1. 1. 1.]\n",
      " [1. 1. 1. 1.]\n",
      " [1. 1. 1. 1.]\n",
      " [1. 1. 1. 1.]\n",
      " [1. 1. 1. 1.]\n",
      " [1. 1. 1. 1.]]\n"
     ]
    }
   ],
   "source": [
    "import numpy as np \n",
    "ones_array = np.ones((6,4)) # zeros np.zeros((6,4)\n",
    "print(ones_array)"
   ]
  },
  {
   "cell_type": "code",
   "execution_count": 6,
   "id": "350543e4-e69c-4a31-858c-90af4b855e30",
   "metadata": {
    "tags": []
   },
   "outputs": [
    {
     "name": "stdout",
     "output_type": "stream",
     "text": [
      "[[1. 0. 0. 0. 0.]\n",
      " [0. 1. 0. 0. 0.]\n",
      " [0. 0. 1. 0. 0.]\n",
      " [0. 0. 0. 1. 0.]\n",
      " [0. 0. 0. 0. 1.]]\n"
     ]
    }
   ],
   "source": [
    "import numpy as np \n",
    "eyes_array = np.eye(5) \n",
    "print(eyes_array)"
   ]
  },
  {
   "cell_type": "code",
   "execution_count": null,
   "id": "f023d8a8-1090-44cb-8ab4-57443e2509da",
   "metadata": {},
   "outputs": [],
   "source": []
  },
  {
   "cell_type": "code",
   "execution_count": 7,
   "id": "12beb10c-8446-4040-8830-04206ef0a99f",
   "metadata": {
    "tags": []
   },
   "outputs": [
    {
     "name": "stdout",
     "output_type": "stream",
     "text": [
      "[[0.08126726 0.90092152 0.65372096 0.4209506  0.60937063]\n",
      " [0.86311497 0.03733687 0.28661777 0.45277155 0.95478067]\n",
      " [0.57187667 0.23003967 0.33004853 0.48767484 0.47447684]\n",
      " [0.45646724 0.90500925 0.62850026 0.60171843 0.30913141]]\n"
     ]
    }
   ],
   "source": [
    "import numpy as np\n",
    "uniform_random = np.random.rand(4, 5) \n",
    "print(uniform_random)"
   ]
  },
  {
   "cell_type": "code",
   "execution_count": 8,
   "id": "60871ef3-bee2-48e2-a945-deb2ee0ef231",
   "metadata": {
    "tags": []
   },
   "outputs": [
    {
     "name": "stdout",
     "output_type": "stream",
     "text": [
      "[27 34 37 38 21]\n"
     ]
    }
   ],
   "source": [
    "import numpy as np\n",
    "integer_random = np.random.randint(10, 50, 5) \n",
    "print(integer_random)"
   ]
  },
  {
   "cell_type": "code",
   "execution_count": 14,
   "id": "f96c53fa-9271-40dd-937a-2b9b6c23fe60",
   "metadata": {
    "tags": []
   },
   "outputs": [
    {
     "name": "stdout",
     "output_type": "stream",
     "text": [
      "[10 12 14 16 20 25]\n",
      "1\n",
      "(6,)\n",
      "10\n",
      "12\n",
      "14\n",
      "16\n",
      "20\n",
      "25\n"
     ]
    }
   ],
   "source": [
    "import numpy as np\n",
    "my_array = np.array([10,12,14,16,20,25]) \n",
    "print(my_array)\n",
    "print(my_array.ndim) \n",
    "print(my_array.shape)\n",
    "# my_array\n",
    "\n",
    "for i in my_array:\n",
    "    print(i)"
   ]
  },
  {
   "cell_type": "code",
   "execution_count": 28,
   "id": "b7239212-1360-4f89-b5eb-dc7e5de557ae",
   "metadata": {
    "tags": []
   },
   "outputs": [
    {
     "name": "stdout",
     "output_type": "stream",
     "text": [
      "[[ 4  6  3  7  1]\n",
      " [ 5  6  4  1  5]\n",
      " [10  3  3  7  1]\n",
      " [10  6  7  9  4]]\n",
      "2\n",
      "(4, 5)\n"
     ]
    }
   ],
   "source": [
    "# The following script creates a two-dimensional NumPy array with four rows # and five columns. The array contains random integers between 1 and 10. The # array is then printed on the console.\n",
    "import numpy as np\n",
    "integer_random = np.random.randint(1,11, size=(4, 5)) \n",
    "print(integer_random)\n",
    "print(integer_random.ndim) \n",
    "print(integer_random.shape)\n",
    "\n",
    "# To traverse through all the items in the two-dimensional array, you can use # the nested foreach loop, as follows:\n",
    "\n",
    "for rows in integer_random:\n",
    "    for column in rows:\n",
    "        pass\n",
    "        # print(column)"
   ]
  },
  {
   "cell_type": "code",
   "execution_count": 30,
   "id": "3d53dea5-f367-41b5-bfd2-5769ac16a4fb",
   "metadata": {
    "tags": []
   },
   "outputs": [
    {
     "name": "stdout",
     "output_type": "stream",
     "text": [
      "['Red' 'Green' 'Orange']\n",
      "['Red' 'Green' 'Orange' 'Yellow' 'Pink']\n"
     ]
    }
   ],
   "source": [
    "import numpy as np\n",
    "my_array = np.array([\"Red\", \"Green\", \"Orange\"]) \n",
    "print(my_array)\n",
    "extended = np.append(my_array, [\"Yellow\", \"Pink\"]) \n",
    "print(extended)"
   ]
  },
  {
   "cell_type": "code",
   "execution_count": 33,
   "id": "8cab1f95-e436-4c18-8c97-b230f0ef3fe2",
   "metadata": {
    "tags": []
   },
   "outputs": [
    {
     "name": "stdout",
     "output_type": "stream",
     "text": [
      "[[0. 0. 0.]\n",
      " [0. 0. 0.]\n",
      " [0. 0. 0.]]\n",
      "Extended Array\n",
      "[[0. 0. 0.]\n",
      " [0. 0. 0.]\n",
      " [0. 0. 0.]\n",
      " [1. 2. 3.]]\n"
     ]
    }
   ],
   "source": [
    "import numpy as np\n",
    "zeros_array = np.zeros((3,3))\n",
    "print(zeros_array)\n",
    "print(\"Extended Array\")\n",
    "extended = np.append(zeros_array, [[1, 2, 3]], axis = 0) \n",
    "print(extended)"
   ]
  },
  {
   "cell_type": "code",
   "execution_count": 34,
   "id": "fbc8ad73-9aa0-49a4-b7dc-638ea7d5d30c",
   "metadata": {
    "tags": []
   },
   "outputs": [
    {
     "name": "stdout",
     "output_type": "stream",
     "text": [
      "['Red' 'Green' 'Orange']\n",
      "After deletion\n",
      "['Red' 'Orange']\n"
     ]
    }
   ],
   "source": [
    "import numpy as np\n",
    "my_array = np.array([\"Red\", \"Green\", \"Orange\"]) \n",
    "print(my_array)\n",
    "print(\"After deletion\")\n",
    "updated_array = np.delete(my_array, 1) #my_array, [1,2]\n",
    "print(updated_array)"
   ]
  },
  {
   "cell_type": "code",
   "execution_count": 37,
   "id": "b55557b4-06d5-4083-8e88-d762df92d92d",
   "metadata": {
    "tags": []
   },
   "outputs": [
    {
     "name": "stdout",
     "output_type": "stream",
     "text": [
      "[[10  1  5  5  2]\n",
      " [ 4  6  9 10  9]\n",
      " [10  1  3  2  3]\n",
      " [ 6  8  1  5  6]]\n",
      "After deletion\n",
      "[[10  1  5  5  2]\n",
      " [10  1  3  2  3]\n",
      " [ 6  8  1  5  6]]\n"
     ]
    }
   ],
   "source": [
    "import numpy as np\n",
    "integer_random = np.random.randint(1,11, size=(4, 5)) \n",
    "print(integer_random)\n",
    "print(\"After deletion\")\n",
    "updated_array = np.delete(integer_random, 1, axis = 0) \n",
    "print(updated_array)"
   ]
  },
  {
   "cell_type": "code",
   "execution_count": 38,
   "id": "266cd045-5447-49c3-b969-34950bd8f970",
   "metadata": {
    "tags": []
   },
   "outputs": [
    {
     "name": "stdout",
     "output_type": "stream",
     "text": [
      "unsorted array\n",
      "[14  4 18 19  3  7  9  7 13  3]\n",
      "\n",
      "sorted array\n",
      "[ 3  3  4  7  7  9 13 14 18 19]\n"
     ]
    }
   ],
   "source": [
    "import numpy as np\n",
    "print(\"unsorted array\")\n",
    "my_array = np.random.randint(1,20,10) \n",
    "print(my_array)\n",
    "print(\"\\nsorted array\")\n",
    "sorted_array = np.sort(my_array) \n",
    "print(sorted_array)"
   ]
  },
  {
   "cell_type": "code",
   "execution_count": 39,
   "id": "6c0acb6c-a4b1-47dc-98b5-d56b61d5c80d",
   "metadata": {
    "tags": []
   },
   "outputs": [
    {
     "name": "stdout",
     "output_type": "stream",
     "text": [
      "unsorted array\n",
      "[[12 16 12  3 12  1]\n",
      " [ 4 19  5 15  1  9]\n",
      " [13 15  7  9 14 19]\n",
      " [ 1 10 12  7 15 13]]\n",
      "Sorted array\n",
      "[[ 1  3 12 12 12 16]\n",
      " [ 1  4  5  9 15 19]\n",
      " [ 7  9 13 14 15 19]\n",
      " [ 1  7 10 12 13 15]]\n"
     ]
    }
   ],
   "source": [
    "import numpy as np\n",
    "print(\"unsorted array\")\n",
    "my_array = np.random.randint(1,20, size = (4,6)) \n",
    "print(my_array)\n",
    "print(\"Sorted array\")\n",
    "sorted_array = np.sort(my_array) \n",
    "print(sorted_array)"
   ]
  },
  {
   "cell_type": "code",
   "execution_count": 41,
   "id": "33d810d3-a13e-4f59-bd2d-11b00654e207",
   "metadata": {
    "tags": []
   },
   "outputs": [
    {
     "name": "stdout",
     "output_type": "stream",
     "text": [
      "unsorted array\n",
      "[12 11  9 14 10 16 18  1  3  4]\n",
      "\n",
      "sorted array\n",
      "[ 1  3  4  9 10 11 12 14 16 18]\n",
      "\n",
      "sorted array - Reversed\n",
      "[18 16 14 12 11 10  9  4  3  1]\n"
     ]
    }
   ],
   "source": [
    "import numpy as np\n",
    "print(\"unsorted array\")\n",
    "my_array = np.random.randint(1,20,10) \n",
    "print(my_array)\n",
    "print(\"\\nsorted array\")\n",
    "sorted_array = np.sort(my_array) \n",
    "print(sorted_array)\n",
    "print(\"\\nsorted array - Reversed\")\n",
    "reverse_sorted = np.flipud(sorted_array) \n",
    "print(reverse_sorted)"
   ]
  },
  {
   "cell_type": "code",
   "execution_count": 43,
   "id": "82841016-9edc-4cd3-b1e8-9aaca19e7536",
   "metadata": {
    "tags": []
   },
   "outputs": [
    {
     "name": "stdout",
     "output_type": "stream",
     "text": [
      "one-dimensional array\n",
      "[ 5  3  6 18  4 14  8 10 18  7]\n",
      "\n",
      "two-dimensional array\n",
      "[[ 5  3  6 18  4]\n",
      " [14  8 10 18  7]]\n"
     ]
    }
   ],
   "source": [
    "import numpy as np \n",
    "print(\"one-dimensional array\") \n",
    "one_d_array = np.random.randint(1,20,10) \n",
    "print(one_d_array) \n",
    "print(\"\\ntwo-dimensional array\") \n",
    "two_d_array = one_d_array.reshape(2,5) \n",
    "print(two_d_array)"
   ]
  },
  {
   "cell_type": "code",
   "execution_count": 44,
   "id": "e0ef9ac7-c381-4ddc-8e23-76d90d35035a",
   "metadata": {
    "tags": []
   },
   "outputs": [
    {
     "name": "stdout",
     "output_type": "stream",
     "text": [
      "two-dimensional array\n",
      "[[ 9 10 12 18 16  1]\n",
      " [15 15  6  6 14 19]\n",
      " [ 3  5 19  5  4  5]\n",
      " [ 1  7  6  6  4  9]]\n",
      "\n",
      "three-dimensional array\n",
      "[[[ 9 10]\n",
      "  [12 18]\n",
      "  [16  1]\n",
      "  [15 15]]\n",
      "\n",
      " [[ 6  6]\n",
      "  [14 19]\n",
      "  [ 3  5]\n",
      "  [19  5]]\n",
      "\n",
      " [[ 4  5]\n",
      "  [ 1  7]\n",
      "  [ 6  6]\n",
      "  [ 4  9]]]\n"
     ]
    }
   ],
   "source": [
    "import numpy as np\n",
    "print(\"two-dimensional array\")\n",
    "two_d_array = np.random.randint(1,20, size = (4,6)) \n",
    "print(two_d_array)\n",
    "print(\"\\nthree-dimensional array\")\n",
    "three_d_array = np.reshape(two_d_array,(3,4,2)) \n",
    "print(three_d_array)"
   ]
  },
  {
   "cell_type": "code",
   "execution_count": 47,
   "id": "c6cf6120-9d4d-4947-9462-ced8cbeb27f1",
   "metadata": {
    "tags": []
   },
   "outputs": [
    {
     "name": "stdout",
     "output_type": "stream",
     "text": [
      "two-dimensional array\n",
      "[[ 9  3  3 12  2  8]\n",
      " [15  3  7 14 14 15]\n",
      " [13 14 18 12  5 19]\n",
      " [ 9  8 15  5  3  7]]\n",
      "\n",
      "one-dimensional array\n",
      "[ 9  3  3 12  2  8 15  3  7 14 14 15 13 14 18 12  5 19  9  8 15  5  3  7]\n"
     ]
    }
   ],
   "source": [
    "\n",
    "import numpy as np\n",
    "print(\"two-dimensional array\")\n",
    "two_d_array = np.random.randint(1,20, size = (4,6)) \n",
    "print(two_d_array)\n",
    "print(\"\\none-dimensional array\")\n",
    "one_d_array = two_d_array.reshape(-1)\n",
    "print(one_d_array)"
   ]
  },
  {
   "cell_type": "code",
   "execution_count": 51,
   "id": "b56cf43f-5903-403f-a78d-d8cb46bc6350",
   "metadata": {
    "tags": []
   },
   "outputs": [
    {
     "name": "stdout",
     "output_type": "stream",
     "text": [
      "[ 1  2  3  4  5  6  7  8  9 10]\n",
      "2\n",
      "[2 3 4 5 6 7 8 9]\n",
      "[1 2 3 4 5]\n",
      "[ 6  7  8  9 10]\n"
     ]
    }
   ],
   "source": [
    "\n",
    "import numpy as np \n",
    "s = np.arange(1,11) \n",
    "print(s) \n",
    "print(s[1])\n",
    "print(s[1:9])\n",
    "print(s[:5]) \n",
    "print(s[5:])"
   ]
  },
  {
   "cell_type": "code",
   "execution_count": 55,
   "id": "0b5c2c6f-d97a-4851-9dd3-bf6148d35f1e",
   "metadata": {
    "tags": []
   },
   "outputs": [
    {
     "name": "stdout",
     "output_type": "stream",
     "text": [
      "[[10 12 13]\n",
      " [45 32 16]]\n",
      "\n",
      " [[10 12]\n",
      " [45 32]\n",
      " [45 32]]\n",
      "\n",
      " [[32 16]\n",
      " [32 16]]\n"
     ]
    }
   ],
   "source": [
    "import numpy as np\n",
    "row1 = [10,12,13]\n",
    "row2 = [45,32,16]\n",
    "row3 = [45,32,16]\n",
    "nums_2d = np.array([row1, row2, row3]) \n",
    "print(nums_2d[:2,:])\n",
    "print(\"\\n\",nums_2d[:,:2])\n",
    "print(\"\\n\",nums_2d[1:,1:])"
   ]
  },
  {
   "cell_type": "code",
   "execution_count": 56,
   "id": "a9952fdc-ca2e-4220-87fd-2de4c9fb0664",
   "metadata": {
    "tags": []
   },
   "outputs": [
    {
     "name": "stdout",
     "output_type": "stream",
     "text": [
      "[24 35 41]\n"
     ]
    }
   ],
   "source": [
    "import numpy as np\n",
    "array1 = np.array ([14,25,31]) \n",
    "array2 = np.array([10])\n",
    "result = array1 + array2 \n",
    "print(result)"
   ]
  },
  {
   "cell_type": "code",
   "execution_count": 65,
   "id": "a05e38cd-5fa3-474e-99a9-92c31ebe78df",
   "metadata": {
    "tags": []
   },
   "outputs": [
    {
     "name": "stdout",
     "output_type": "stream",
     "text": [
      "[10 12 14 16 18 20]\n",
      "[10 20 14 16 18 20]\n"
     ]
    }
   ],
   "source": [
    "import numpy as np\n",
    "array1 = np.array([10,12,14,16,18,20]) \n",
    "array2 = array1.copy() # array1.view() will achieve same but modifying will change original\n",
    "array2[1] = 20\n",
    "print(array1)\n",
    "print(array2)\n",
    "np.save(\"./test.txt\", array2)"
   ]
  },
  {
   "cell_type": "code",
   "execution_count": 62,
   "id": "af8fd35f-8d4f-4bc1-bc7b-64770ebfd1a2",
   "metadata": {
    "tags": []
   },
   "outputs": [
    {
     "data": {
      "text/plain": [
       "array([10, 20, 14, 16, 18, 20])"
      ]
     },
     "execution_count": 62,
     "metadata": {},
     "output_type": "execute_result"
    }
   ],
   "source": [
    "b = np.load('test.npy')\n",
    "b\n"
   ]
  },
  {
   "cell_type": "code",
   "execution_count": 69,
   "id": "31a6c4f7-68cc-4349-9eb6-bd9540d10bd7",
   "metadata": {
    "tags": []
   },
   "outputs": [
    {
     "name": "stdout",
     "output_type": "stream",
     "text": [
      "[ 2  4  8 10 12]\n",
      "mean:\n",
      "7.2\n"
     ]
    }
   ],
   "source": [
    "import numpy as np\n",
    "my_array = np.array([2,4,8,10,12]) \n",
    "print(my_array)\n",
    "print(\"mean:\") \n",
    "print(np.mean(my_array))"
   ]
  },
  {
   "cell_type": "code",
   "execution_count": 70,
   "id": "2e247935-8558-4338-83ae-cfcb0d06f5ad",
   "metadata": {
    "tags": []
   },
   "outputs": [
    {
     "name": "stdout",
     "output_type": "stream",
     "text": [
      "[[ 8  6 17]\n",
      " [12  5  9]]\n",
      "mean:\n",
      "[10.33333333  8.66666667]\n",
      "[10.   5.5 13. ]\n"
     ]
    }
   ],
   "source": [
    "import numpy as np\n",
    "my_array = np.random.randint(1,20, size = (2,3)) \n",
    "print(my_array)\n",
    "print(\"mean:\")\n",
    "print(np.mean(my_array, axis = 1)) \n",
    "print(np.mean(my_array, axis = 0))"
   ]
  },
  {
   "cell_type": "code",
   "execution_count": 71,
   "id": "316e39de-c8ec-4f04-a0f5-872ccec8ab07",
   "metadata": {
    "tags": []
   },
   "outputs": [
    {
     "name": "stdout",
     "output_type": "stream",
     "text": [
      "[[ 6 11 12 18]\n",
      " [ 1  4 18 16]\n",
      " [ 9  2 12 14]]\n",
      "min:\n",
      "[6 1 2]\n",
      "[ 1  2 12 14]\n"
     ]
    }
   ],
   "source": [
    "import numpy as np\n",
    "my_array = np.random.randint(1,20, size = (3,4)) \n",
    "print(my_array)\n",
    "print(\"min:\")\n",
    "print(np.amin(my_array, axis = 1)) \n",
    "print(np.amin(my_array, axis = 0))"
   ]
  },
  {
   "cell_type": "code",
   "execution_count": 72,
   "id": "a45bc84d-bf0d-4911-94aa-1ce1aa1cdbda",
   "metadata": {
    "tags": []
   },
   "outputs": [
    {
     "name": "stdout",
     "output_type": "stream",
     "text": [
      "[ 2  4  8 10 12]\n",
      "max value:\n",
      "12\n"
     ]
    }
   ],
   "source": [
    "\n",
    "import numpy as np\n",
    "my_array = np.array([2,4,8,10,12]) \n",
    "print(my_array)\n",
    "print(\"max value:\") \n",
    "print(np.amax(my_array))"
   ]
  },
  {
   "cell_type": "code",
   "execution_count": 74,
   "id": "027e7ba0-3491-4784-a4f1-5b6029605761",
   "metadata": {
    "tags": []
   },
   "outputs": [
    {
     "name": "stdout",
     "output_type": "stream",
     "text": [
      "[ 2  4  8 10 12]\n",
      "std deviation: 3.7094473981982814\n"
     ]
    }
   ],
   "source": [
    "# The standard deviation of a NumPy array can be found via the std() method. # Here is an example:\n",
    "import numpy as np\n",
    "my_array = np.array([2,4,8,10,12]) \n",
    "print(my_array) \n",
    "print(\"std deviation:\", np.std(my_array))"
   ]
  },
  {
   "cell_type": "code",
   "execution_count": 75,
   "id": "d65af687-a194-4c33-95b3-64d56d821208",
   "metadata": {
    "tags": []
   },
   "outputs": [
    {
     "name": "stdout",
     "output_type": "stream",
     "text": [
      "[[15 15 15 11]\n",
      " [10  1 13  7]\n",
      " [10 18  7 16]]\n",
      "std-dev:\n",
      "[1.73205081 4.43705984 4.43705984]\n",
      "[2.3570226  7.40870359 3.39934634 3.68178701]\n"
     ]
    }
   ],
   "source": [
    "import numpy as np\n",
    "my_array = np.random.randint(1,20, size = (3,4)) \n",
    "print(my_array)\n",
    "print(\"std-dev:\")\n",
    "print(np.std(my_array, axis = 1)) \n",
    "print(np.std(my_array, axis = 0))"
   ]
  },
  {
   "cell_type": "code",
   "execution_count": 76,
   "id": "48374585-07f1-4b96-bb4a-2a54be07d63c",
   "metadata": {
    "tags": []
   },
   "outputs": [
    {
     "name": "stdout",
     "output_type": "stream",
     "text": [
      "[1.  3.  0.  0.9 1.2]\n",
      "[-1.   0.5  0.2  0.6  5. ]\n",
      "correlation value:\n",
      "[7.04]\n"
     ]
    }
   ],
   "source": [
    "import numpy as np\n",
    "a1 = np.array([1, 3, 0, 0.9, 1.2])\n",
    "a2 = np.array([-1, 0.5, 0.2, 0.6, 5]) \n",
    "print(a1)\n",
    "print(a2)\n",
    "print(\"correlation value:\") \n",
    "print(np.correlate(a1, a2))"
   ]
  },
  {
   "cell_type": "code",
   "execution_count": 80,
   "id": "80cb590d-3a65-437f-ad60-3d55b12b31da",
   "metadata": {
    "tags": []
   },
   "outputs": [
    {
     "name": "stdout",
     "output_type": "stream",
     "text": [
      "[1 3 4 5 6 7 8 9]\n"
     ]
    }
   ],
   "source": [
    "import numpy as np\n",
    "my_array =np.array([5,8,7,5,9,3,7,7,1,1,8,4,6,9,7,3]) \n",
    "unique_items = np.unique(my_array) \n",
    "print(unique_items)"
   ]
  },
  {
   "cell_type": "code",
   "execution_count": 81,
   "id": "ca33d085-c744-4b64-93fd-04460393f4f8",
   "metadata": {
    "tags": []
   },
   "outputs": [
    {
     "name": "stdout",
     "output_type": "stream",
     "text": [
      "[1 3 4 5 6 7 8 9]\n",
      "[2 2 1 2 1 4 2 2]\n"
     ]
    }
   ],
   "source": [
    "import numpy as np\n",
    "my_array =np.array([5,8,7,5,9,3,7,7,1,1,8,4,6,9,7,3]) \n",
    "unique_items, counts = np.unique(my_array, return_counts=True) \n",
    "print(unique_items)\n",
    "print(counts)"
   ]
  },
  {
   "cell_type": "code",
   "execution_count": 83,
   "id": "d7535dea-881c-49d0-ab16-16dbc12212bb",
   "metadata": {
    "tags": []
   },
   "outputs": [
    {
     "name": "stdout",
     "output_type": "stream",
     "text": [
      "[1 3 4 5 6 7 8 9]\n",
      "[2 2 1 2 1 4 2 2]\n",
      "== Freq ==\n",
      "[[1 2]\n",
      " [3 2]\n",
      " [4 1]\n",
      " [5 2]\n",
      " [6 1]\n",
      " [7 4]\n",
      " [8 2]\n",
      " [9 2]]\n"
     ]
    }
   ],
   "source": [
    "import numpy as np\n",
    "my_array =np.array([5,8,7,5,9,3,7,7,1,1,8,4,6,9,7,3]) \n",
    "unique_items, counts = np.unique(my_array, return_counts=True) \n",
    "print(unique_items)\n",
    "print(counts)\n",
    "print(\"== Freq ==\")\n",
    "frequencies = np.asarray((unique_items, counts)).T \n",
    "print(frequencies)"
   ]
  },
  {
   "cell_type": "code",
   "execution_count": 84,
   "id": "3c8d6777-43c6-43d3-b232-fcac99e99708",
   "metadata": {
    "tags": []
   },
   "outputs": [
    {
     "name": "stdout",
     "output_type": "stream",
     "text": [
      "original\n",
      "[[ 2 13 11  7]\n",
      " [17 12 15  1]\n",
      " [ 6  3 11 18]]\n",
      "reversed\n",
      "[[ 7 11 13  2]\n",
      " [ 1 15 12 17]\n",
      " [18 11  3  6]]\n"
     ]
    }
   ],
   "source": [
    "import numpy as np\n",
    "print(\"original\")\n",
    "my_array = np.random.randint(1,20, size = (3,4)) \n",
    "print(my_array)\n",
    "print(\"reversed\")\n",
    "reversed_array = np.fliplr(my_array) \n",
    "print(reversed_array)"
   ]
  },
  {
   "cell_type": "code",
   "execution_count": 149,
   "id": "57d21f28-1b1e-476d-9a0a-cc6561d7c462",
   "metadata": {
    "tags": []
   },
   "outputs": [],
   "source": [
    "from scipy.stats import zscore, shapiro\n",
    "\n",
    "z_score = zscore(df['age'])\n",
    "df['z_score_age'] = z_score\n",
    "\n",
    "threshhold = 3\n",
    "# outliers = [z_score > threshhold | z_score < -threshhold]\n",
    "# df_clean = df[~outliers]\n",
    "# df_clean"
   ]
  },
  {
   "cell_type": "code",
   "execution_count": 169,
   "id": "f07630ee-3144-419e-9844-d62ef8c7e1b7",
   "metadata": {
    "tags": []
   },
   "outputs": [
    {
     "name": "stdout",
     "output_type": "stream",
     "text": [
      "Original DataFrame:\n",
      "   age  height  z_scores\n",
      "0    1     130 -0.479246\n",
      "1    2     200 -0.463182\n",
      "2    3     135 -0.447117\n",
      "3    4     146 -0.431053\n",
      "4    5     156 -0.414989\n",
      "5  170     170  2.235587\n",
      "\n",
      "DataFrame without outliers:\n",
      "   age  height  z_scores\n",
      "0    1     130 -0.479246\n",
      "1    2     200 -0.463182\n",
      "2    3     135 -0.447117\n",
      "3    4     146 -0.431053\n",
      "4    5     156 -0.414989\n"
     ]
    }
   ],
   "source": [
    "import pandas as pd\n",
    "from scipy import stats\n",
    "\n",
    "# Create a sample DataFrame\n",
    "data = {'age': [1, 2, 3, 4, 5, 170], 'height': [130, 200, 135, 146, 156, 170]}\n",
    "df = pd.DataFrame(data)\n",
    "\n",
    "# Calculate the z-score for each data point\n",
    "z_scores = stats.zscore(df['age'])\n",
    "\n",
    "df[\"z_scores\"]=z_scores\n",
    "# Set a threshold for the z-score, for example, removing values with z-score > 3 or < -3\n",
    "threshold = 1\n",
    "outliers = (z_scores > threshold) | (z_scores < -threshold)\n",
    "\n",
    "# Filter out the outliers from the DataFrame\n",
    "df_no_outliers = df[~outliers]\n",
    "\n",
    "print(\"Original DataFrame:\")\n",
    "print(df)\n",
    "print(\"\\nDataFrame without outliers:\")\n",
    "print(df_no_outliers)"
   ]
  },
  {
   "cell_type": "code",
   "execution_count": null,
   "id": "cc787f7a-c0cf-4b17-bd4d-d429303d278a",
   "metadata": {},
   "outputs": [],
   "source": []
  },
  {
   "cell_type": "code",
   "execution_count": null,
   "id": "a9cfb574-21ba-4587-8988-e17612646aac",
   "metadata": {},
   "outputs": [],
   "source": [
    "numerical_columns = df.select_dtypes(includes=[\"in64\", \"float64\"])\n"
   ]
  },
  {
   "cell_type": "code",
   "execution_count": null,
   "id": "d74ca2c9-3fdc-4ba4-9124-8480dcc61b1f",
   "metadata": {},
   "outputs": [],
   "source": [
    "def classify_features(df):\n",
    "    categorical_features = []\n",
    "    non_categorical_features = []\n",
    "    discrete_features = []\n",
    "    continous_features = []\n",
    "    \n",
    "    for column in df.columns:\n",
    "        if df[column].dtype in [\"object\",\"bool\"]:\n",
    "            if df[column].nuniqe < 15:\n",
    "                categorical_features.append(column)\n",
    "            else:\n",
    "                non_categorical_features.append(column)\n",
    "        if df[column].dttype in [\"float64\", \"int64\"]:\n",
    "            if df[column].nunique < 10:\n",
    "                discrete_features.append(column)\n",
    "            else:\n",
    "                continous_features.append(column)\n",
    "    return categorical_features, non_categorical_features, discrete_features, continous_features\n",
    "\n",
    "categorical, non_categorical, discrete, continous = classify_features(df)\n",
    "\n",
    "\n",
    "    \n",
    "    "
   ]
  },
  {
   "cell_type": "code",
   "execution_count": 104,
   "id": "16ad5dfe-ab06-4583-8aa8-5a8077ed4977",
   "metadata": {
    "tags": []
   },
   "outputs": [
    {
     "data": {
      "text/html": [
       "<div>\n",
       "<style scoped>\n",
       "    .dataframe tbody tr th:only-of-type {\n",
       "        vertical-align: middle;\n",
       "    }\n",
       "\n",
       "    .dataframe tbody tr th {\n",
       "        vertical-align: top;\n",
       "    }\n",
       "\n",
       "    .dataframe thead th {\n",
       "        text-align: right;\n",
       "    }\n",
       "</style>\n",
       "<table border=\"1\" class=\"dataframe\">\n",
       "  <thead>\n",
       "    <tr style=\"text-align: right;\">\n",
       "      <th></th>\n",
       "      <th>age</th>\n",
       "      <th>sex</th>\n",
       "      <th>bmi</th>\n",
       "      <th>bp</th>\n",
       "      <th>s1</th>\n",
       "      <th>s2</th>\n",
       "      <th>s3</th>\n",
       "      <th>s4</th>\n",
       "      <th>s5</th>\n",
       "      <th>s6</th>\n",
       "    </tr>\n",
       "  </thead>\n",
       "  <tbody>\n",
       "    <tr>\n",
       "      <th>0</th>\n",
       "      <td>0.038076</td>\n",
       "      <td>0.050680</td>\n",
       "      <td>0.061696</td>\n",
       "      <td>0.021872</td>\n",
       "      <td>-0.044223</td>\n",
       "      <td>-0.034821</td>\n",
       "      <td>-0.043401</td>\n",
       "      <td>-0.002592</td>\n",
       "      <td>0.019907</td>\n",
       "      <td>-0.017646</td>\n",
       "    </tr>\n",
       "    <tr>\n",
       "      <th>1</th>\n",
       "      <td>-0.001882</td>\n",
       "      <td>-0.044642</td>\n",
       "      <td>-0.051474</td>\n",
       "      <td>-0.026328</td>\n",
       "      <td>-0.008449</td>\n",
       "      <td>-0.019163</td>\n",
       "      <td>0.074412</td>\n",
       "      <td>-0.039493</td>\n",
       "      <td>-0.068332</td>\n",
       "      <td>-0.092204</td>\n",
       "    </tr>\n",
       "    <tr>\n",
       "      <th>2</th>\n",
       "      <td>0.085299</td>\n",
       "      <td>0.050680</td>\n",
       "      <td>0.044451</td>\n",
       "      <td>-0.005670</td>\n",
       "      <td>-0.045599</td>\n",
       "      <td>-0.034194</td>\n",
       "      <td>-0.032356</td>\n",
       "      <td>-0.002592</td>\n",
       "      <td>0.002861</td>\n",
       "      <td>-0.025930</td>\n",
       "    </tr>\n",
       "    <tr>\n",
       "      <th>3</th>\n",
       "      <td>-0.089063</td>\n",
       "      <td>-0.044642</td>\n",
       "      <td>-0.011595</td>\n",
       "      <td>-0.036656</td>\n",
       "      <td>0.012191</td>\n",
       "      <td>0.024991</td>\n",
       "      <td>-0.036038</td>\n",
       "      <td>0.034309</td>\n",
       "      <td>0.022688</td>\n",
       "      <td>-0.009362</td>\n",
       "    </tr>\n",
       "    <tr>\n",
       "      <th>4</th>\n",
       "      <td>0.005383</td>\n",
       "      <td>-0.044642</td>\n",
       "      <td>-0.036385</td>\n",
       "      <td>0.021872</td>\n",
       "      <td>0.003935</td>\n",
       "      <td>0.015596</td>\n",
       "      <td>0.008142</td>\n",
       "      <td>-0.002592</td>\n",
       "      <td>-0.031988</td>\n",
       "      <td>-0.046641</td>\n",
       "    </tr>\n",
       "  </tbody>\n",
       "</table>\n",
       "</div>"
      ],
      "text/plain": [
       "        age       sex       bmi        bp        s1        s2        s3  \\\n",
       "0  0.038076  0.050680  0.061696  0.021872 -0.044223 -0.034821 -0.043401   \n",
       "1 -0.001882 -0.044642 -0.051474 -0.026328 -0.008449 -0.019163  0.074412   \n",
       "2  0.085299  0.050680  0.044451 -0.005670 -0.045599 -0.034194 -0.032356   \n",
       "3 -0.089063 -0.044642 -0.011595 -0.036656  0.012191  0.024991 -0.036038   \n",
       "4  0.005383 -0.044642 -0.036385  0.021872  0.003935  0.015596  0.008142   \n",
       "\n",
       "         s4        s5        s6  \n",
       "0 -0.002592  0.019907 -0.017646  \n",
       "1 -0.039493 -0.068332 -0.092204  \n",
       "2 -0.002592  0.002861 -0.025930  \n",
       "3  0.034309  0.022688 -0.009362  \n",
       "4 -0.002592 -0.031988 -0.046641  "
      ]
     },
     "execution_count": 104,
     "metadata": {},
     "output_type": "execute_result"
    }
   ],
   "source": [
    "import sklearn\n",
    "from sklearn.datasets import load_diabetes\n",
    "import pandas as pd\n",
    "import matplotlib.pyplot as plt\n",
    " \n",
    "# Load the dataset\n",
    "diabetics = load_diabetes()\n",
    " \n",
    "# Create the dataframe\n",
    "column_name = diabetics.feature_names\n",
    "df_diabetics = pd.DataFrame(diabetics.data)\n",
    "df_diabetics.columns = column_name\n",
    "df_diabetics.head()"
   ]
  },
  {
   "cell_type": "code",
   "execution_count": 217,
   "id": "cb7850cd-d391-48c7-b605-c3a2b42ca19b",
   "metadata": {
    "tags": []
   },
   "outputs": [
    {
     "data": {
      "image/png": "[encoded data removed]",
      "text/plain": [
       "<Figure size 1000x600 with 1 Axes>"
      ]
     },
     "metadata": {},
     "output_type": "display_data"
    },
    {
     "data": {
      "image/png": "[encoded data removed]",
      "text/plain": [
       "<Figure size 1000x600 with 1 Axes>"
      ]
     },
     "metadata": {},
     "output_type": "display_data"
    }
   ],
   "source": [
    "\n",
    "# Box Plot\n",
    "import seaborn as sns\n",
    "vars = [\"bmi\", \"age\"]\n",
    "for var in vars:\n",
    "    # fig, ax = plt.subplots() \n",
    "    fig = plt.figure(figsize=(10,6))\n",
    "    sns.boxplot(df_diabetics[var]).set(xlabel=\"\", ylabel=\"\", title=var) "
   ]
  },
  {
   "cell_type": "code",
   "execution_count": 123,
   "id": "c75c09d6-5416-497d-9187-c2ee0c9d8762",
   "metadata": {
    "tags": []
   },
   "outputs": [
    {
     "name": "stdout",
     "output_type": "stream",
     "text": [
      "Daily mean temperature: 25.10 degrees Celsius\n"
     ]
    },
    {
     "data": {
      "text/plain": [
       "[25.2, 26.5, 24.8, 23.7, 22.1, 21.5, 22.8, 24.3, 26.0, 27.4, 28.2, 28.7]"
      ]
     },
     "execution_count": 123,
     "metadata": {},
     "output_type": "execute_result"
    }
   ],
   "source": [
    "import numpy as np\n",
    "\n",
    "# Example hourly temperature data for a day\n",
    "hourly_temperatures = [25.2, 26.5, 24.8, 23.7, 22.1, 21.5, 22.8, 24.3, 26.0, 27.4, 28.2, 28.7]\n",
    "\n",
    "# Reshape the data into a 2D array with one column (axis 1)\n",
    "temperature_array = np.array(hourly_temperatures).reshape(-1, 1)\n",
    "\n",
    "# Calculate the daily mean temperature\n",
    "daily_mean_temperature = np.mean(temperature_array)\n",
    "\n",
    "# Print the result\n",
    "print(f\"Daily mean temperature: {daily_mean_temperature:.2f} degrees Celsius\")\n",
    "temperature_array\n",
    "hourly_temperatures"
   ]
  },
  {
   "cell_type": "code",
   "execution_count": 124,
   "id": "94fdf53e-7d31-4e0c-8d62-df89750f0b67",
   "metadata": {
    "tags": []
   },
   "outputs": [
    {
     "data": {
      "text/plain": [
       "25.099999999999998"
      ]
     },
     "execution_count": 124,
     "metadata": {},
     "output_type": "execute_result"
    }
   ],
   "source": [
    "x=np.mean(hourly_temperatures)\n",
    "x"
   ]
  },
  {
   "cell_type": "code",
   "execution_count": 125,
   "id": "061e57f0-7256-43f6-a33f-9c18b3547b24",
   "metadata": {
    "tags": []
   },
   "outputs": [
    {
     "name": "stdout",
     "output_type": "stream",
     "text": [
      "Original Timestamp: 1609459200\n",
      "Converted Unix Time: 1609448400\n"
     ]
    }
   ],
   "source": [
    "from datetime import datetime\n",
    "\n",
    "df['DateTime'] = df['Date'].apply(lambda x: datetime.datetime.fromtimestamp(x))"
   ]
  },
  {
   "cell_type": "code",
   "execution_count": null,
   "id": "4b85d98d-a199-4f69-8ac7-0e54632449f5",
   "metadata": {},
   "outputs": [],
   "source": [
    "df[columname] = df.apply(lambda row: \"Good\" if row['colname'] > 70 else (\"Fair\" if \n",
    "                        row['anothercolumn'] <= 20 else \"Poor\"), axis=1)"
   ]
  },
  {
   "cell_type": "code",
   "execution_count": null,
   "id": "d41cd77d-bcb7-4b77-8619-11ca43f71e4b",
   "metadata": {},
   "outputs": [],
   "source": [
    "for i in categorical:\n",
    "    print(i, \" :\")\n",
    "    print(df[i].unique())\n",
    "    print()\n",
    "    "
   ]
  },
  {
   "cell_type": "code",
   "execution_count": null,
   "id": "fc821789-a3fd-4743-a683-0cdfd1eee977",
   "metadata": {},
   "outputs": [],
   "source": [
    "for i in categorical:\n",
    "    plt.figure(figsize=(15,6))\n",
    "    sns.countplot(x=i, data=df, palette='hls')\n",
    "    plt.xticks(rotation = 45)\n",
    "    plt.show()"
   ]
  },
  {
   "cell_type": "code",
   "execution_count": null,
   "id": "c46bc1dc-f451-456c-855c-77b00921426c",
   "metadata": {},
   "outputs": [],
   "source": []
  },
  {
   "cell_type": "code",
   "execution_count": null,
   "id": "d556f00b-d893-4399-b17a-dbd61e8cb022",
   "metadata": {},
   "outputs": [],
   "source": [
    "for i in categorical:\n",
    "    plt.figure(figsize=(15,6))\n",
    "    sns.countplot(x=i, data=df, palette='hls')\n",
    "    plt.xticks(rotation = 45)\n",
    "    plt.show()"
   ]
  },
  {
   "cell_type": "code",
   "execution_count": null,
   "id": "a4f7c2f2-9855-4c4d-b798-7fa1e028f285",
   "metadata": {},
   "outputs": [],
   "source": [
    "for i in categorical:\n",
    "    fig = px.pie(df, names=i)\n",
    "    print(\"Pie of - \", i)\n",
    "    fig.show()"
   ]
  },
  {
   "cell_type": "code",
   "execution_count": null,
   "id": "99e43ce5-19f1-4f95-8be3-c4aa5db31b67",
   "metadata": {},
   "outputs": [],
   "source": [
    "for i in categorical:\n",
    "    plt.figure(figsize(15,6))\n",
    "    sns.countplot(x=i, data=df, palette='hls')\n",
    "    plt.xtics(rotation = 45)\n",
    "    plt.show()"
   ]
  },
  {
   "cell_type": "code",
   "execution_count": null,
   "id": "5e3adafb-0060-4d82-962f-1ad6348182a2",
   "metadata": {},
   "outputs": [],
   "source": [
    "for i in categorical:\n",
    "    plt.figure(figsize=(15,6))\n",
    "    sns.countplot(x=i, data=df, palette='hls')\n",
    "    plt.xtics(rotation = 45)\n",
    "    plt.show()"
   ]
  },
  {
   "cell_type": "code",
   "execution_count": null,
   "id": "32e86e1f-7bd7-4435-bd0a-2ff33f18aceb",
   "metadata": {},
   "outputs": [],
   "source": [
    "for i in continous:\n",
    "    plt.figure(figsize=(15,6))\n",
    "    sns.histplot(df[i], bins=20, kde=True, palette='hls')\n",
    "    plt.xticks(rotation=90)\n",
    "    plt.show()"
   ]
  },
  {
   "cell_type": "code",
   "execution_count": null,
   "id": "5cdab82e-dd2b-4a1e-a601-598c5729af06",
   "metadata": {},
   "outputs": [],
   "source": [
    "for i in continous:\n",
    "    plt.figure(figsize=(15,6))\n",
    "    sns.distplot(df[i], bins=20, kde=True, palette='hls')\n",
    "    plt.xtics(rotation=90)\n",
    "    plt.show()"
   ]
  },
  {
   "cell_type": "code",
   "execution_count": null,
   "id": "781f1f4e-3231-410a-b211-de941a1566a2",
   "metadata": {},
   "outputs": [],
   "source": [
    "for i in continous:\n",
    "    plt.figure(figsize=(15,16))\n",
    "    sns.boxplot(i, data=df, palette='hls')\n",
    "    plt.xticks(rotation=90)\n",
    "    plt.show()"
   ]
  },
  {
   "cell_type": "code",
   "execution_count": null,
   "id": "372a297d-d2a7-4a00-a793-b372fb4339db",
   "metadata": {},
   "outputs": [],
   "source": [
    "for i in continous:\n",
    "    plt.figure(figsize=(15,6))\n",
    "    sns.violinplot(i, data=df, palette='hls')\n",
    "    plt.xtics(rotation=90)\n",
    "    "
   ]
  },
  {
   "cell_type": "code",
   "execution_count": null,
   "id": "4f372127-3a90-4b7a-9b9a-33a5e01284ca",
   "metadata": {},
   "outputs": [],
   "source": [
    "import pycaret.classification as pycc\n",
    "\n",
    "summary_process = pycc.setup(data=df, target='x')\n",
    "available_models = pycc.models()\n",
    "available_models"
   ]
  },
  {
   "cell_type": "code",
   "execution_count": null,
   "id": "a63a4a2d-56d8-4268-bb27-c0afe6ff1c5d",
   "metadata": {},
   "outputs": [],
   "source": [
    "best_clf = pycc.compare_models()\n",
    "best_clf"
   ]
  },
  {
   "cell_type": "code",
   "execution_count": null,
   "id": "c70fde16-8667-4968-b129-17cc90d0ff6d",
   "metadata": {},
   "outputs": [],
   "source": [
    "for i in categorical:\n",
    "    for j in continous:\n",
    "        plt.figure(figsize=(15,6))\n",
    "        sns.barplot(x=i, y=j, ci=None, palette='hls')\n",
    "        plt.xtics(rotation = 45)\n",
    "        plt.show()"
   ]
  },
  {
   "cell_type": "code",
   "execution_count": null,
   "id": "b55c7a87-c5ff-4dd7-8021-9154946f7fc0",
   "metadata": {},
   "outputs": [],
   "source": [
    "for i in categorical:\n",
    "    for j in continous:\n",
    "        plt.figure(figsize=(15,6))\n",
    "        sns.boxplot(x=i, y=j, ci=None, palette='hls')\n",
    "        plt.xtics(rotation=90)\n",
    "        plt.show()"
   ]
  },
  {
   "cell_type": "code",
   "execution_count": 128,
   "id": "7f9c90f0-6135-45d2-a09e-d652ea656da4",
   "metadata": {
    "tags": []
   },
   "outputs": [
    {
     "name": "stdout",
     "output_type": "stream",
     "text": [
      "B    one  three  two\n",
      "A                   \n",
      "bar    1      1    1\n",
      "foo    2      1    2\n"
     ]
    }
   ],
   "source": [
    "import pandas as pd\n",
    "\n",
    "# Sample data\n",
    "data = {'A': ['foo', 'bar', 'foo', 'bar', 'foo', 'bar', 'foo', 'foo'],\n",
    "        'B': ['one', 'one', 'two', 'three', 'two', 'two', 'one', 'three'],\n",
    "        'C': [10, 20, 30, 40, 50, 60, 70, 80]}\n",
    "\n",
    "df = pd.DataFrame(data)\n",
    "\n",
    "# Crosstabulation\n",
    "result = pd.crosstab(df['A'], df['B'])\n",
    "print(result)"
   ]
  },
  {
   "cell_type": "code",
   "execution_count": 202,
   "id": "bb965d83-8764-4c6b-8d60-18122f31b261",
   "metadata": {
    "tags": []
   },
   "outputs": [
    {
     "data": {
      "text/html": [
       "<div>\n",
       "<style scoped>\n",
       "    .dataframe tbody tr th:only-of-type {\n",
       "        vertical-align: middle;\n",
       "    }\n",
       "\n",
       "    .dataframe tbody tr th {\n",
       "        vertical-align: top;\n",
       "    }\n",
       "\n",
       "    .dataframe thead th {\n",
       "        text-align: right;\n",
       "    }\n",
       "</style>\n",
       "<table border=\"1\" class=\"dataframe\">\n",
       "  <thead>\n",
       "    <tr style=\"text-align: right;\">\n",
       "      <th></th>\n",
       "      <th>age</th>\n",
       "      <th>height</th>\n",
       "      <th>zscore_age</th>\n",
       "    </tr>\n",
       "  </thead>\n",
       "  <tbody>\n",
       "    <tr>\n",
       "      <th>0</th>\n",
       "      <td>15</td>\n",
       "      <td>130</td>\n",
       "      <td>-0.065512</td>\n",
       "    </tr>\n",
       "    <tr>\n",
       "      <th>1</th>\n",
       "      <td>12</td>\n",
       "      <td>200</td>\n",
       "      <td>-1.244731</td>\n",
       "    </tr>\n",
       "    <tr>\n",
       "      <th>2</th>\n",
       "      <td>13</td>\n",
       "      <td>135</td>\n",
       "      <td>-0.851658</td>\n",
       "    </tr>\n",
       "    <tr>\n",
       "      <th>3</th>\n",
       "      <td>14</td>\n",
       "      <td>146</td>\n",
       "      <td>-0.458585</td>\n",
       "    </tr>\n",
       "    <tr>\n",
       "      <th>4</th>\n",
       "      <td>18</td>\n",
       "      <td>156</td>\n",
       "      <td>1.113707</td>\n",
       "    </tr>\n",
       "    <tr>\n",
       "      <th>5</th>\n",
       "      <td>19</td>\n",
       "      <td>300</td>\n",
       "      <td>1.506780</td>\n",
       "    </tr>\n",
       "  </tbody>\n",
       "</table>\n",
       "</div>"
      ],
      "text/plain": [
       "   age  height  zscore_age\n",
       "0   15     130   -0.065512\n",
       "1   12     200   -1.244731\n",
       "2   13     135   -0.851658\n",
       "3   14     146   -0.458585\n",
       "4   18     156    1.113707\n",
       "5   19     300    1.506780"
      ]
     },
     "execution_count": 202,
     "metadata": {},
     "output_type": "execute_result"
    }
   ],
   "source": [
    "import pandas as pd\n",
    "from scipy.stats import zscore, shapiro\n",
    "\n",
    "# Create a sample DataFrame\n",
    "data = {'age': [15, 12, 13, 14, 18, 19], 'height': [130, 200, 135, 146, 156, 300]}\n",
    "df = pd.DataFrame(data)\n",
    "\n",
    "z_scores = zscore(df['age'])\n",
    "df['zscore_age'] = z_scores\n",
    "threshold = 2\n",
    "outliers = (z_scores > threshold) | (z_scores < -threshold)\n",
    "df_clean = df[~outliers]\n",
    "\n",
    "df_clean"
   ]
  },
  {
   "cell_type": "code",
   "execution_count": 199,
   "id": "515ab3b9-7076-4b3d-97ea-0d59b0b7288b",
   "metadata": {
    "tags": []
   },
   "outputs": [
    {
     "name": "stdout",
     "output_type": "stream",
     "text": [
      "Not Normally distributed\n"
     ]
    }
   ],
   "source": [
    "x = shapiro(df['age'])\n",
    "stat, pvalue = x\n",
    "if pvalue > 5:\n",
    "    print(\"Normaly distributed\")\n",
    "else:\n",
    "    print(\"Not Normally distributed\")"
   ]
  },
  {
   "cell_type": "code",
   "execution_count": 213,
   "id": "3a7e407b-5b11-46fa-98c4-ca796109899c",
   "metadata": {
    "tags": []
   },
   "outputs": [
    {
     "data": {
      "text/html": [
       "<div>\n",
       "<style scoped>\n",
       "    .dataframe tbody tr th:only-of-type {\n",
       "        vertical-align: middle;\n",
       "    }\n",
       "\n",
       "    .dataframe tbody tr th {\n",
       "        vertical-align: top;\n",
       "    }\n",
       "\n",
       "    .dataframe thead th {\n",
       "        text-align: right;\n",
       "    }\n",
       "</style>\n",
       "<table border=\"1\" class=\"dataframe\">\n",
       "  <thead>\n",
       "    <tr style=\"text-align: right;\">\n",
       "      <th></th>\n",
       "      <th>OU</th>\n",
       "      <th>DATIM Level 3</th>\n",
       "      <th>DATIM Level 4</th>\n",
       "      <th>DATIM Level 5</th>\n",
       "      <th>DATIM Level 6</th>\n",
       "      <th>DATIM Level 7</th>\n",
       "      <th>DATIM Level 8</th>\n",
       "      <th>DATIM Level 9</th>\n",
       "      <th>Prioritization</th>\n",
       "      <th>Community</th>\n",
       "      <th>Facility coordinate completion</th>\n",
       "    </tr>\n",
       "  </thead>\n",
       "  <tbody>\n",
       "    <tr>\n",
       "      <th>24</th>\n",
       "      <td>Kenya</td>\n",
       "      <td>Country</td>\n",
       "      <td>County</td>\n",
       "      <td>Subcounty</td>\n",
       "      <td>Ward</td>\n",
       "      <td>Facility</td>\n",
       "      <td>NaN</td>\n",
       "      <td>NaN</td>\n",
       "      <td>4</td>\n",
       "      <td>6</td>\n",
       "      <td>0.991171</td>\n",
       "    </tr>\n",
       "  </tbody>\n",
       "</table>\n",
       "</div>"
      ],
      "text/plain": [
       "       OU DATIM Level 3 DATIM Level 4 DATIM Level 5 DATIM Level 6  \\\n",
       "24  Kenya       Country        County     Subcounty          Ward   \n",
       "\n",
       "   DATIM Level 7 DATIM Level 8 DATIM Level 9  Prioritization  Community  \\\n",
       "24      Facility           NaN           NaN               4          6   \n",
       "\n",
       "    Facility coordinate completion  \n",
       "24                        0.991171  "
      ]
     },
     "execution_count": 213,
     "metadata": {},
     "output_type": "execute_result"
    }
   ],
   "source": [
    "df_kenya = df[df[\"OU\"] == \"Kenya\"]\n",
    "df_kenya"
   ]
  },
  {
   "cell_type": "code",
   "execution_count": null,
   "id": "237b356d-c40f-4415-866f-60308fcd584c",
   "metadata": {},
   "outputs": [],
   "source": [
    "for i in disctete:\n",
    "    for j in continous:\n",
    "        plt.figure(figsize=(15,6))\n",
    "        sns.violinplot(x=i, y=j, data=df, palette='hls')\n",
    "        plt.xticks(rotation=45)\n",
    "        plt.show()"
   ]
  },
  {
   "cell_type": "code",
   "execution_count": null,
   "id": "36a04e19-e3d7-41b7-9f77-15a23e389df7",
   "metadata": {},
   "outputs": [],
   "source": [
    "for i in continous:\n",
    "    for j in countinous:\n",
    "        if i != j:\n",
    "            plt.figure(figsize=(15,6))\n",
    "            sns.scatterplot(x=df[i], y=df[j], data=df, palette='hls')\n",
    "            plt.xticks(rotation=45)\n",
    "            plt.show()"
   ]
  },
  {
   "cell_type": "code",
   "execution_count": null,
   "id": "c28fdde4-2c46-46f3-b5b2-2605dee19386",
   "metadata": {},
   "outputs": [],
   "source": [
    "payment_received = pd.crosstab(df['Payment_currency'], df['Received_currency'])\n",
    "plt.figure(figsize=(12, 8))\n",
    "sns.heatmap(payment_received, annot=True, cmap='coolwarm', fmt='d')\n",
    "plt.title('Payment Currency vs. Received Currency')\n",
    "plt.show()"
   ]
  },
  {
   "cell_type": "code",
   "execution_count": null,
   "id": "58f79766-7fbd-4420-883b-81d9b52d48bb",
   "metadata": {},
   "outputs": [],
   "source": [
    "payment_received = pd.crosstab(df['payment_currency'], df['payment_received'])\n",
    "plt.figure(figsize=(12,8))\n",
    "sns.heatmap(payment_received, annot=True, cmap='coolwarm', fmt='d')\n",
    "plt.title('Payment Currency Vs. Received Currency')\n",
    "plt.show()"
   ]
  },
  {
   "cell_type": "code",
   "execution_count": null,
   "id": "4bb8fe33-0ff3-453f-b9e4-df14ef9431c5",
   "metadata": {},
   "outputs": [],
   "source": []
  },
  {
   "cell_type": "code",
   "execution_count": 218,
   "id": "d8d330df-d28b-49b7-9895-895ec715051d",
   "metadata": {
    "tags": []
   },
   "outputs": [
    {
     "name": "stdout",
     "output_type": "stream",
     "text": [
      "T-statistic: -6.375150151768143\n",
      "P-value: 1.259654590387671e-09\n",
      "Degrees of freedom: 198.0\n"
     ]
    },
    {
     "data": {
      "text/html": [
       "<div>\n",
       "<style scoped>\n",
       "    .dataframe tbody tr th:only-of-type {\n",
       "        vertical-align: middle;\n",
       "    }\n",
       "\n",
       "    .dataframe tbody tr th {\n",
       "        vertical-align: top;\n",
       "    }\n",
       "\n",
       "    .dataframe thead th {\n",
       "        text-align: right;\n",
       "    }\n",
       "</style>\n",
       "<table border=\"1\" class=\"dataframe\">\n",
       "  <thead>\n",
       "    <tr style=\"text-align: right;\">\n",
       "      <th></th>\n",
       "      <th>Group One</th>\n",
       "      <th>Group Two</th>\n",
       "    </tr>\n",
       "  </thead>\n",
       "  <tbody>\n",
       "    <tr>\n",
       "      <th>0</th>\n",
       "      <td>-1.085631</td>\n",
       "      <td>1.642055</td>\n",
       "    </tr>\n",
       "    <tr>\n",
       "      <th>1</th>\n",
       "      <td>0.997345</td>\n",
       "      <td>-0.977888</td>\n",
       "    </tr>\n",
       "    <tr>\n",
       "      <th>2</th>\n",
       "      <td>0.282978</td>\n",
       "      <td>1.712265</td>\n",
       "    </tr>\n",
       "    <tr>\n",
       "      <th>3</th>\n",
       "      <td>-1.506295</td>\n",
       "      <td>3.598304</td>\n",
       "    </tr>\n",
       "    <tr>\n",
       "      <th>4</th>\n",
       "      <td>-0.578600</td>\n",
       "      <td>0.975374</td>\n",
       "    </tr>\n",
       "    <tr>\n",
       "      <th>...</th>\n",
       "      <td>...</td>\n",
       "      <td>...</td>\n",
       "    </tr>\n",
       "    <tr>\n",
       "      <th>95</th>\n",
       "      <td>1.031114</td>\n",
       "      <td>-2.231055</td>\n",
       "    </tr>\n",
       "    <tr>\n",
       "      <th>96</th>\n",
       "      <td>-1.084568</td>\n",
       "      <td>0.730707</td>\n",
       "    </tr>\n",
       "    <tr>\n",
       "      <th>97</th>\n",
       "      <td>-1.363472</td>\n",
       "      <td>0.889149</td>\n",
       "    </tr>\n",
       "    <tr>\n",
       "      <th>98</th>\n",
       "      <td>0.379401</td>\n",
       "      <td>0.658738</td>\n",
       "    </tr>\n",
       "    <tr>\n",
       "      <th>99</th>\n",
       "      <td>-0.379176</td>\n",
       "      <td>0.782054</td>\n",
       "    </tr>\n",
       "  </tbody>\n",
       "</table>\n",
       "<p>100 rows × 2 columns</p>\n",
       "</div>"
      ],
      "text/plain": [
       "    Group One  Group Two\n",
       "0   -1.085631   1.642055\n",
       "1    0.997345  -0.977888\n",
       "2    0.282978   1.712265\n",
       "3   -1.506295   3.598304\n",
       "4   -0.578600   0.975374\n",
       "..        ...        ...\n",
       "95   1.031114  -2.231055\n",
       "96  -1.084568   0.730707\n",
       "97  -1.363472   0.889149\n",
       "98   0.379401   0.658738\n",
       "99  -0.379176   0.782054\n",
       "\n",
       "[100 rows x 2 columns]"
      ]
     },
     "execution_count": 218,
     "metadata": {},
     "output_type": "execute_result"
    }
   ],
   "source": [
    "import numpy as np\n",
    "import statsmodels.api as sm\n",
    "import pandas as pd\n",
    "\n",
    "# Generate two independent samples\n",
    "np.random.seed(123)\n",
    "group1 = np.random.normal(loc=0, scale=1, size=100)\n",
    "group2 = np.random.normal(loc=1, scale=1, size=100)\n",
    "\n",
    "dfx = pd.DataFrame({\n",
    "    \"Group One\": group1,\n",
    "    \"Group Two\": group2,\n",
    "    \n",
    "})\n",
    "\n",
    "                  \n",
    "# Perform independent samples t-test\n",
    "t_stat, p_value, df = sm.stats.ttest_ind(group1, group2)\n",
    "\n",
    "# Display the results\n",
    "print(f'T-statistic: {t_stat}')\n",
    "print(f'P-value: {p_value}')\n",
    "print(f'Degrees of freedom: {df}')\n",
    "\n",
    "dfx"
   ]
  },
  {
   "cell_type": "code",
   "execution_count": null,
   "id": "d27c6071-f45b-464a-af71-294ed5d05b9c",
   "metadata": {},
   "outputs": [],
   "source": []
  },
  {
   "cell_type": "code",
   "execution_count": null,
   "id": "757f6a0e-06e2-4d35-a3ca-cda88d6fc166",
   "metadata": {},
   "outputs": [],
   "source": [
    "plt.figure(figsize=(15,8))\n",
    "data_year_quota = data.groupby(['year', 'quota']).size().plot(kind = 'line',\n",
    "plt.xticks(rotation = 90) plt.show()"
   ]
  },
  {
   "cell_type": "code",
   "execution_count": null,
   "id": "53fe8405-b183-4e80-9b89-1101ef248403",
   "metadata": {},
   "outputs": [],
   "source": []
  },
  {
   "cell_type": "code",
   "execution_count": null,
   "id": "3d1c5759-ec67-4717-b11f-ee1a3c17718d",
   "metadata": {},
   "outputs": [],
   "source": []
  },
  {
   "cell_type": "code",
   "execution_count": null,
   "id": "92c3a3a1-1146-4b65-aed0-a9423234f2cf",
   "metadata": {},
   "outputs": [],
   "source": []
  }
 ],
 "metadata": {
  "kernelspec": {
   "display_name": "Python 3 (ipykernel)",
   "language": "python",
   "name": "python3"
  },
  "language_info": {
   "codemirror_mode": {
    "name": "ipython",
    "version": 3
   },
   "file_extension": ".py",
   "mimetype": "text/x-python",
   "name": "python",
   "nbconvert_exporter": "python",
   "pygments_lexer": "ipython3",
   "version": "3.11.5"
  }
 },
 "nbformat": 4,
 "nbformat_minor": 5
}
